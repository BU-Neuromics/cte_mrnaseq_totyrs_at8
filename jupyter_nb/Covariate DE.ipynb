version https://git-lfs.github.com/spec/v1
oid sha256:f411c0438ebde53cd27ea15fa28ee28ae7434c67aca31f6292aca1f882ef442d
size 880901
